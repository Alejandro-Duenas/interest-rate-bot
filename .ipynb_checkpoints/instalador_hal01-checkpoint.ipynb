{
 "cells": [
  {
   "cell_type": "code",
   "execution_count": 1,
   "id": "7cee5896-8be1-4254-a75f-c94f8477e398",
   "metadata": {},
   "outputs": [
    {
     "name": "stdout",
     "output_type": "stream",
     "text": [
      "Processing c:\\users\\teletrabajo\\documents\\riesgo de tasa de interes\\dashboard_lib\n",
      "Building wheels for collected packages: dashboard-lib\n",
      "  Building wheel for dashboard-lib (setup.py): started\n",
      "  Building wheel for dashboard-lib (setup.py): finished with status 'done'\n",
      "  Created wheel for dashboard-lib: filename=dashboard_lib-0.1-py3-none-any.whl size=18192 sha256=ef3acbba9e313f45ba5825f7e9d21de0d6a6fb3c009e658fb9641789d50295fd\n",
      "  Stored in directory: C:\\Users\\Teletrabajo\\AppData\\Local\\Temp\\pip-ephem-wheel-cache-yozt1ze2\\wheels\\7a\\92\\5d\\c4e833ca054a9457021079793cef28b42eeb70d5ced41ee6ab\n",
      "Successfully built dashboard-lib\n",
      "Installing collected packages: dashboard-lib\n",
      "Successfully installed dashboard-lib-0.1\n"
     ]
    }
   ],
   "source": [
    "!pip install ."
   ]
  },
  {
   "cell_type": "code",
   "execution_count": 3,
   "id": "9a01c289-8014-409f-a6ad-219e2a547d2c",
   "metadata": {},
   "outputs": [
    {
     "name": "stdout",
     "output_type": "stream",
     "text": [
      "Processing c:\\users\\teletrabajo\\documents\\riesgo de tasa de interes\\dashboard_lib\n",
      "Building wheels for collected packages: dashboard-lib\n",
      "  Building wheel for dashboard-lib (setup.py): started\n",
      "  Building wheel for dashboard-lib (setup.py): finished with status 'done'\n",
      "  Created wheel for dashboard-lib: filename=dashboard_lib-0.1-py3-none-any.whl size=18207 sha256=dae2880a830c3639007d33e89aef37d0a48aa088fbbbf8675dca901b249a0004\n",
      "  Stored in directory: C:\\Users\\Teletrabajo\\AppData\\Local\\Temp\\pip-ephem-wheel-cache-etrqczld\\wheels\\7a\\92\\5d\\c4e833ca054a9457021079793cef28b42eeb70d5ced41ee6ab\n",
      "Successfully built dashboard-lib\n",
      "Installing collected packages: dashboard-lib\n",
      "  Attempting uninstall: dashboard-lib\n",
      "    Found existing installation: dashboard-lib 0.1\n",
      "    Uninstalling dashboard-lib-0.1:\n",
      "      Successfully uninstalled dashboard-lib-0.1\n",
      "Successfully installed dashboard-lib-0.1\n"
     ]
    }
   ],
   "source": [
    "!pip install --upgrade ."
   ]
  },
  {
   "cell_type": "code",
   "execution_count": 3,
   "id": "8dfb41fb-bf5c-4fcd-a104-3604ac28bc68",
   "metadata": {},
   "outputs": [],
   "source": [
    "import dashboard_lib"
   ]
  },
  {
   "cell_type": "code",
   "execution_count": null,
   "id": "50c3bf13-dad3-4c25-8f42-beeede84871a",
   "metadata": {},
   "outputs": [],
   "source": []
  }
 ],
 "metadata": {
  "kernelspec": {
   "display_name": "Python 3 (ipykernel)",
   "language": "python",
   "name": "python3"
  },
  "language_info": {
   "codemirror_mode": {
    "name": "ipython",
    "version": 3
   },
   "file_extension": ".py",
   "mimetype": "text/x-python",
   "name": "python",
   "nbconvert_exporter": "python",
   "pygments_lexer": "ipython3",
   "version": "3.8.12"
  }
 },
 "nbformat": 4,
 "nbformat_minor": 5
}
