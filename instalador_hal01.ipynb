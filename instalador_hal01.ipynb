{
 "cells": [
  {
   "cell_type": "code",
   "execution_count": 2,
   "id": "7cee5896-8be1-4254-a75f-c94f8477e398",
   "metadata": {},
   "outputs": [
    {
     "name": "stdout",
     "output_type": "stream",
     "text": [
      "Processing c:\\users\\teletrabajo\\documents\\riesgo de tasa de interes\\modelo tasas\\python library\n",
      "Building wheels for collected packages: hal01\n",
      "  Building wheel for hal01 (setup.py): started\n",
      "  Building wheel for hal01 (setup.py): finished with status 'done'\n",
      "  Created wheel for hal01: filename=hal01-1.0-py3-none-any.whl size=9912 sha256=dc179c2069f778daa26581e2ca9f5c0a04621391dc72365dbd2c38bade826872\n",
      "  Stored in directory: C:\\Users\\Teletrabajo\\AppData\\Local\\Temp\\pip-ephem-wheel-cache-zn0dvq2y\\wheels\\24\\d5\\65\\a2a60b854a95b83e8e5e78d708033048a42164e88e4a6b89be\n",
      "Successfully built hal01\n",
      "Installing collected packages: hal01\n",
      "Successfully installed hal01-1.0\n"
     ]
    }
   ],
   "source": [
    "!pip install ."
   ]
  },
  {
   "cell_type": "code",
   "execution_count": 1,
   "id": "9a01c289-8014-409f-a6ad-219e2a547d2c",
   "metadata": {},
   "outputs": [
    {
     "name": "stdout",
     "output_type": "stream",
     "text": [
      "Processing c:\\users\\teletrabajo\\documents\\riesgo de tasa de interes\\modelo tasas\\python library\n",
      "Building wheels for collected packages: hal01\n",
      "  Building wheel for hal01 (setup.py): started\n",
      "  Building wheel for hal01 (setup.py): finished with status 'done'\n",
      "  Created wheel for hal01: filename=hal01-1.0-py3-none-any.whl size=9899 sha256=2d3933cfb644e17a39c40b3fe3dc5def2dafab4525c91a50ee61d6505a80c7f0\n",
      "  Stored in directory: C:\\Users\\Teletrabajo\\AppData\\Local\\Temp\\pip-ephem-wheel-cache-4uo8jhx9\\wheels\\24\\d5\\65\\a2a60b854a95b83e8e5e78d708033048a42164e88e4a6b89be\n",
      "Successfully built hal01\n",
      "Installing collected packages: hal01\n",
      "  Attempting uninstall: hal01\n",
      "    Found existing installation: hal01 1.0\n",
      "    Uninstalling hal01-1.0:\n",
      "      Successfully uninstalled hal01-1.0\n",
      "Successfully installed hal01-1.0\n"
     ]
    }
   ],
   "source": [
    "!pip install --upgrade ."
   ]
  },
  {
   "cell_type": "code",
   "execution_count": null,
   "id": "2e27c125-9fd3-49d1-ab04-5ea1ae352c5c",
   "metadata": {},
   "outputs": [],
   "source": []
  }
 ],
 "metadata": {
  "kernelspec": {
   "display_name": "Python 3 (ipykernel)",
   "language": "python",
   "name": "python3"
  },
  "language_info": {
   "codemirror_mode": {
    "name": "ipython",
    "version": 3
   },
   "file_extension": ".py",
   "mimetype": "text/x-python",
   "name": "python",
   "nbconvert_exporter": "python",
   "pygments_lexer": "ipython3",
   "version": "3.8.12"
  }
 },
 "nbformat": 4,
 "nbformat_minor": 5
}
